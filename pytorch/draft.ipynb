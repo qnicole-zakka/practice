{
 "cells": [
  {
   "cell_type": "code",
   "execution_count": 2,
   "metadata": {},
   "outputs": [],
   "source": [
    "import torch\n",
    "import torch.nn as nn\n",
    "import torch.nn.functional as F"
   ]
  },
  {
   "cell_type": "code",
   "execution_count": 4,
   "metadata": {},
   "outputs": [
    {
     "name": "stdout",
     "output_type": "stream",
     "text": [
      "tensor([[ 1.0324,  0.1421, -0.8232],\n",
      "        [-0.3505, -0.6134, -1.2448]]) tensor(-0.3095)\n"
     ]
    }
   ],
   "source": [
    "t1 = torch.randn(2, 3)\n",
    "t1_mean = t1.mean()\n",
    "print(t1, t1_mean)"
   ]
  },
  {
   "cell_type": "code",
   "execution_count": 6,
   "metadata": {},
   "outputs": [
    {
     "ename": "NameError",
     "evalue": "name 'Math' is not defined",
     "output_type": "error",
     "traceback": [
      "\u001b[0;31m---------------------------------------------------------------------------\u001b[0m",
      "\u001b[0;31mNameError\u001b[0m                                 Traceback (most recent call last)",
      "Cell \u001b[0;32mIn[6], line 1\u001b[0m\n\u001b[0;32m----> 1\u001b[0m \u001b[43mMath\u001b[49m\u001b[38;5;241m.\u001b[39mmean(\u001b[38;5;241m1.0324\u001b[39m,  \u001b[38;5;241m0.1421\u001b[39m, \u001b[38;5;241m-\u001b[39m\u001b[38;5;241m0.8232\u001b[39m, \u001b[38;5;241m-\u001b[39m\u001b[38;5;241m0.3505\u001b[39m, \u001b[38;5;241m-\u001b[39m\u001b[38;5;241m0.6134\u001b[39m, \u001b[38;5;241m-\u001b[39m\u001b[38;5;241m1.2448\u001b[39m)\n",
      "\u001b[0;31mNameError\u001b[0m: name 'Math' is not defined"
     ]
    }
   ],
   "source": [
    "# calculate mean of all numbers\n",
    "mean(1.0324,  0.1421, -0.8232, -0.3505, -0.6134, -1.2448)"
   ]
  },
  {
   "cell_type": "code",
   "execution_count": null,
   "metadata": {},
   "outputs": [],
   "source": []
  }
 ],
 "metadata": {
  "language_info": {
   "name": "python"
  }
 },
 "nbformat": 4,
 "nbformat_minor": 2
}
