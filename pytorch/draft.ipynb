{
 "cells": [
  {
   "cell_type": "code",
   "execution_count": 2,
   "metadata": {},
   "outputs": [],
   "source": [
    "import torch\n",
    "import torch.nn as nn\n",
    "import torch.nn.functional as F"
   ]
  },
  {
   "cell_type": "code",
   "execution_count": 16,
   "metadata": {},
   "outputs": [
    {
     "name": "stdout",
     "output_type": "stream",
     "text": [
      "tensor([[[ 1.5281,  1.7802,  0.8371],\n",
      "         [-0.1232,  1.9599,  0.0790]],\n",
      "\n",
      "        [[-0.0691,  0.2945, -0.1687],\n",
      "         [-0.2039,  0.4257,  2.4525]],\n",
      "\n",
      "        [[ 1.9294,  1.0868, -0.7715],\n",
      "         [-0.9650, -0.8644,  0.5029]]])\n",
      "tensor([[ 0.7024,  1.8700,  0.4580],\n",
      "        [-0.1365,  0.3601,  1.1419],\n",
      "        [ 0.4822,  0.1112, -0.1343]])\n",
      "tensor([[ 0.7024,  1.8700,  0.4580],\n",
      "        [-0.1365,  0.3601,  1.1419],\n",
      "        [ 0.4822,  0.1112, -0.1343]])\n"
     ]
    }
   ],
   "source": [
    "t1 = torch.randn(3, 2, 3)\n",
    "print(t1)\n",
    "t1_mean = t1.mean(1)\n",
    "print(t1_mean)\n",
    "t2 = torch.mean(t1, 1)\n",
    "print(t2)"
   ]
  },
  {
   "cell_type": "code",
   "execution_count": 11,
   "metadata": {},
   "outputs": [
    {
     "data": {
      "text/plain": [
       "-0.6093333333333333"
      ]
     },
     "execution_count": 11,
     "metadata": {},
     "output_type": "execute_result"
    }
   ],
   "source": [
    "# calculate mean of all numbers\n",
    "(1.0324 + 0.1421 -0.8232-0.3505-0.6134-1.2448) /6\n",
    "(-0.0319-0.9894-0.8067)/3"
   ]
  },
  {
   "cell_type": "code",
   "execution_count": 21,
   "metadata": {},
   "outputs": [
    {
     "data": {
      "text/plain": [
       "tensor(1.1352)"
      ]
     },
     "execution_count": 21,
     "metadata": {},
     "output_type": "execute_result"
    }
   ],
   "source": [
    "triplet_loss = nn.TripletMarginLoss(margin=1.0, p=2, eps=1e-7)\n",
    "anchor = torch.randn(4, 100, 128)\n",
    "positive = torch.randn(4, 100, 128)\n",
    "negative = torch.randn(4, 100, 128)\n",
    "output = triplet_loss(anchor, positive, negative)\n",
    "output"
   ]
  },
  {
   "cell_type": "code",
   "execution_count": null,
   "metadata": {},
   "outputs": [],
   "source": []
  }
 ],
 "metadata": {
  "kernelspec": {
   "display_name": "ml-test",
   "language": "python",
   "name": "python3"
  },
  "language_info": {
   "name": "python",
   "version": "3.9.6"
  }
 },
 "nbformat": 4,
 "nbformat_minor": 2
}
